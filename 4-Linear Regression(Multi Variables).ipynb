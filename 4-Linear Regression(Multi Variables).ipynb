{
 "cells": [
  {
   "cell_type": "code",
   "execution_count": 2,
   "metadata": {},
   "outputs": [
    {
     "name": "stdout",
     "output_type": "stream",
     "text": [
      "The Data Is ==> \n",
      "    Size  Bedrooms_No   Price\n",
      "0  2104            3  399900\n",
      "1  1600            3  329900\n",
      "2  2400            3  369000\n",
      "3  1416            2  232000\n",
      "4  3000            4  539900\n",
      "5  1985            4  299900\n",
      "6  1534            3  314900\n",
      "7  1427            3  198999\n",
      "8  1380            3  212000\n",
      "9  1494            3  242500\n",
      "****************************************************************************************************\n",
      "The Describesd Of Data Is ==> \n",
      "               Size  Bedrooms_No          Price\n",
      "count    47.000000    47.000000      47.000000\n",
      "mean   2000.680851     3.170213  340412.659574\n",
      "std     794.702354     0.760982  125039.899586\n",
      "min     852.000000     1.000000  169900.000000\n",
      "25%    1432.000000     3.000000  249900.000000\n",
      "50%    1888.000000     3.000000  299900.000000\n",
      "75%    2269.000000     4.000000  384450.000000\n",
      "max    4478.000000     5.000000  699900.000000\n",
      "****************************************************************************************************\n",
      "The Data After Normalization (Or After Data Rescaling) ==> \n",
      "        Size  Bedrooms_No     Price\n",
      "0  0.130010    -0.223675  0.475747\n",
      "1 -0.504190    -0.223675 -0.084074\n",
      "2  0.502476    -0.223675  0.228626\n",
      "3 -0.735723    -1.537767 -0.867025\n",
      "4  1.257476     1.090417  1.595389\n",
      "5 -0.019732     1.090417 -0.323998\n",
      "6 -0.587240    -0.223675 -0.204036\n",
      "7 -0.721881    -0.223675 -1.130948\n",
      "8 -0.781023    -0.223675 -1.026973\n",
      "9 -0.637573    -0.223675 -0.783051\n",
      "****************************************************************************************************\n"
     ]
    }
   ],
   "source": [
    "#Imported Needed Libraries \n",
    "import numpy as np \n",
    "import matplotlib.pyplot as plt \n",
    "import pandas as pd \n",
    "#First Read The Data And Put Names Of Columns \n",
    "path='D:\\\\Programming\\\\Machine Learning Projects\\\\My Projects\\\\Data Lreg (MultiVariable).txt'\n",
    "data=pd.read_csv(path , header=None ,names=['Size','Bedrooms_No','Price'])\n",
    "#Show The Data And Describe Of Data\n",
    "print('The Data Is ==> \\n',data.head(10))\n",
    "print('**'*50)\n",
    "print('The Describesd Of Data Is ==> \\n',data.describe())\n",
    "print('**'*50)\n",
    "#I Neeeded To Make Data Rescaling Until Make Same Range From (-1 To 1)\n",
    "data=(data - data.mean())/data.std()\n",
    "print('The Data After Normalization (Or After Data Rescaling) ==> \\n',data.head(10))\n",
    "print('**'*50)\n",
    "#========================================================================================="
   ]
  },
  {
   "cell_type": "code",
   "execution_count": 4,
   "metadata": {},
   "outputs": [
    {
     "name": "stdout",
     "output_type": "stream",
     "text": [
      "The Trainig Data Is ==> \n",
      "    Ones      Size  Bedrooms_No\n",
      "0     1  0.130010    -0.223675\n",
      "1     1 -0.504190    -0.223675\n",
      "2     1  0.502476    -0.223675\n",
      "3     1 -0.735723    -1.537767\n",
      "4     1  1.257476     1.090417\n",
      "5     1 -0.019732     1.090417\n",
      "6     1 -0.587240    -0.223675\n",
      "7     1 -0.721881    -0.223675\n",
      "**************************************************\n",
      "The Target Of Data Is ==> \n",
      "       Price\n",
      "0  0.475747\n",
      "1 -0.084074\n",
      "2  0.228626\n",
      "3 -0.867025\n",
      "4  1.595389\n",
      "5 -0.323998\n",
      "6 -0.204036\n",
      "7 -1.130948\n",
      "**************************************************\n",
      "The Shape Of Theta Is ==>  (1, 3)\n",
      "The Shape Of Matrix Traing Data is ==> \n",
      " (47, 3)\n",
      "[[ 1.          0.13000987 -0.22367519]\n",
      " [ 1.         -0.50418984 -0.22367519]\n",
      " [ 1.          0.50247636 -0.22367519]\n",
      " [ 1.         -0.73572306 -1.53776691]\n",
      " [ 1.          1.25747602  1.09041654]\n",
      " [ 1.         -0.01973173  1.09041654]\n",
      " [ 1.         -0.5872398  -0.22367519]\n",
      " [ 1.         -0.7218814  -0.22367519]\n",
      " [ 1.         -0.78102304 -0.22367519]\n",
      " [ 1.         -0.63757311 -0.22367519]]\n",
      "****************************************************************************************************\n",
      "The Shape Of Target Of Data Is ==> \n",
      " (47, 1)\n",
      "[[ 0.47574687]\n",
      " [-0.08407444]\n",
      " [ 0.22862575]\n",
      " [-0.86702453]\n",
      " [ 1.59538948]\n",
      " [-0.32399786]\n",
      " [-0.20403615]\n",
      " [-1.13094828]\n",
      " [-1.02697347]\n",
      " [-0.78305133]]\n",
      "****************************************************************************************************\n"
     ]
    }
   ],
   "source": [
    "path='D:\\\\Programming\\\\Machine Learning Projects\\\\My Projects\\\\Data Lreg (MultiVariable).txt'\n",
    "data=pd.read_csv(path , header=None ,names=['Size','Bedrooms_No','Price'])\n",
    "data=(data - data.mean())/data.std()\n",
    "#=================================================================================\n",
    "#To Add New Column Is Called Ones Becuasue To Easily Make Seperated Of Columns From Together In Data\n",
    "data.insert(0,'Ones',1)\n",
    "#To Make Seperate Data ==> I Need Seperate Training Data From Target Data \n",
    "cols=data.shape[1]# Data Is about 47 Rows * 3 Cols (If To Choose Shape[0] To Make 47 Rows ) , But I Choose shape [1] ear To Make 3 Cols \n",
    "#Cols = Shape (3)\n",
    "xtraining_data=data.iloc[:, 0 : cols-1 ]#Traing Data Is Contain ==> ['Ones' , 'Size' , 'Bedrooms No']\n",
    "ytarget_data=data.iloc[:, cols -1 : cols]\n",
    "#Create Theta Variabbles ==> Theta 0 , Theta 1 , Theta 2 \n",
    "theta = np.matrix(np.array([0,0,0]))\n",
    "print('The Trainig Data Is ==> \\n',xtraining_data.head(8))\n",
    "print('*'*50)\n",
    "print('The Target Of Data Is ==> \\n',ytarget_data.head(8))\n",
    "print('*'*50)\n",
    "print('The Shape Of Theta Is ==> ',theta.shape)"
   ]
  },
  {
   "cell_type": "code",
   "execution_count": 5,
   "metadata": {},
   "outputs": [
    {
     "name": "stdout",
     "output_type": "stream",
     "text": [
      "The Shape Of Matrix Traing Data is ==> \n",
      " (47, 3)\n",
      "[[ 1.          0.13000987 -0.22367519]\n",
      " [ 1.         -0.50418984 -0.22367519]\n",
      " [ 1.          0.50247636 -0.22367519]\n",
      " [ 1.         -0.73572306 -1.53776691]\n",
      " [ 1.          1.25747602  1.09041654]\n",
      " [ 1.         -0.01973173  1.09041654]\n",
      " [ 1.         -0.5872398  -0.22367519]\n",
      " [ 1.         -0.7218814  -0.22367519]\n",
      " [ 1.         -0.78102304 -0.22367519]\n",
      " [ 1.         -0.63757311 -0.22367519]]\n",
      "****************************************************************************************************\n",
      "The Shape Of Target Of Data Is ==> \n",
      " (47, 1)\n",
      "[[ 0.47574687]\n",
      " [-0.08407444]\n",
      " [ 0.22862575]\n",
      " [-0.86702453]\n",
      " [ 1.59538948]\n",
      " [-0.32399786]\n",
      " [-0.20403615]\n",
      " [-1.13094828]\n",
      " [-1.02697347]\n",
      " [-0.78305133]]\n",
      "****************************************************************************************************\n"
     ]
    }
   ],
   "source": [
    "#Convert Data (Traing Data & Target Data To Matrix Because To Easily Treatment)\n",
    "xm=np.matrix(xtraining_data.values)\n",
    "ym=np.matrix(ytarget_data.values)\n",
    "print('The Shape Of Matrix Traing Data is ==> \\n',xm.shape)\n",
    "print(xm[0:10,:])\n",
    "print('**'*50)\n",
    "print('The Shape Of Target Of Data Is ==> \\n',ym.shape)\n",
    "print(ym[0:10,:])\n",
    "print('**'*50)"
   ]
  },
  {
   "cell_type": "code",
   "execution_count": 6,
   "metadata": {},
   "outputs": [
    {
     "name": "stdout",
     "output_type": "stream",
     "text": [
      "The Values Of Theta Is ==>  [[-1.11016397e-16  8.84765988e-01 -5.31788197e-02]]\n",
      "The Values Of Cost After 10000 Iterations Is ==> \n",
      " [0.4805491  0.47198588 0.46366462 0.45557814 0.44771948 0.44008189\n",
      " 0.43265881 0.42544389 0.41843096 0.41161404 0.40498735 0.39854524\n",
      " 0.39228228 0.38619317 0.38027278 0.37451612 0.36891839 0.36347488\n",
      " 0.35818107 0.35303254 0.34802503 0.34315438 0.33841659 0.33380775\n",
      " 0.32932407 0.3249619  0.32071767 0.31658793 0.31256934 0.30865863\n",
      " 0.30485268 0.30114841 0.29754287 0.29403318 0.29061655 0.28729027\n",
      " 0.28405173 0.28089837 0.27782772 0.27483739 0.27192505 0.26908845\n",
      " 0.26632541 0.26363379 0.26101154 0.25845666 0.25596722 0.25354134\n",
      " 0.25117719 0.248873  ]\n",
      "The Final Values Of Cost Is ==>  0.13068648053904197\n"
     ]
    }
   ],
   "source": [
    "#Def Functions To Compute Cost Function ==> np.sum(h theta * x - y )^2 / len(x * x)\n",
    "def cost_function(x,y,theta):\n",
    "    inner = np.power (((x * theta.T) - y ),2)\n",
    "    return np.sum(inner) / (2 * len(x))\n",
    "#==============================================================================================\n",
    "#Create Function To Compute Fradient Descent Equation \n",
    "def Gradient_Descent(x,y,theta,alpha,iters):\n",
    "    temp=np.matrix(np.zeros(theta.shape))\n",
    "    parameters = int(theta.ravel().shape[1])\n",
    "    cost =np.zeros(iters)\n",
    "    for i in range(iters):\n",
    "        error=((x * theta.T)-y)\n",
    "        for j in range (parameters):\n",
    "            term =np.multiply(error,x[:,j])\n",
    "            temp[0,j]=theta[0,j]-((alpha/len(x)) * np.sum(term))\n",
    "        theta=temp\n",
    "        cost[i]=cost_function(x,y,theta)\n",
    "    return theta ,cost \n",
    "#==============================================================================================\n",
    "#Intalizing Variables For Learning Rate and Iterations\n",
    "alpha=0.01\n",
    "iters=10000\n",
    "#Perform Linear Regression On The Data Set \n",
    "g,cost=Gradient_Descent(xm,ym,theta,alpha,iters)\n",
    "thiscost=cost_function(xm,ym,g)\n",
    "print('The Values Of Theta Is ==> ',g)\n",
    "print('The Values Of Cost After 10000 Iterations Is ==> \\n',cost[0:50])\n",
    "print('The Final Values Of Cost Is ==> ',thiscost)\n"
   ]
  },
  {
   "cell_type": "code",
   "execution_count": 8,
   "metadata": {},
   "outputs": [
    {
     "name": "stdout",
     "output_type": "stream",
     "text": [
      "The Data After Divided To 200 Equal Part Is ==> \n",
      " [188. 188. 188. 188. 188. 188. 188. 188. 188. 188. 188. 188. 188. 188.\n",
      " 188. 188. 188. 188. 188. 188. 188. 188. 188. 188. 188. 188. 188. 188.\n",
      " 188. 188. 188. 188. 188. 188. 188. 188. 188. 188. 188. 188. 188. 188.\n",
      " 188. 188. 188. 188. 188. 188. 188. 188. 188. 188. 188. 188. 188. 188.\n",
      " 188. 188. 188. 188. 188. 188. 188. 188. 188. 188. 188. 188. 188. 188.\n",
      " 188. 188. 188. 188. 188. 188. 188. 188. 188. 188. 188. 188. 188. 188.\n",
      " 188. 188. 188. 188. 188. 188. 188. 188. 188. 188. 188. 188. 188. 188.\n",
      " 188. 188. 188. 188. 188. 188. 188. 188. 188. 188. 188. 188. 188. 188.\n",
      " 188. 188. 188. 188. 188. 188. 188. 188. 188. 188. 188. 188. 188. 188.\n",
      " 188. 188. 188. 188. 188. 188. 188. 188. 188. 188. 188. 188. 188. 188.\n",
      " 188. 188. 188. 188. 188. 188. 188. 188. 188. 188. 188. 188. 188. 188.\n",
      " 188. 188. 188. 188. 188. 188. 188. 188. 188. 188. 188. 188. 188. 188.\n",
      " 188. 188. 188. 188. 188. 188. 188. 188. 188. 188. 188. 188. 188. 188.\n",
      " 188. 188. 188. 188. 188. 188. 188. 188. 188. 188. 188. 188. 188. 188.\n",
      " 188. 188. 188. 188.]\n",
      "****************************************************************************************************\n",
      "The Hypothesis Equation Result Is ==> \n",
      " [166.33600572 166.33600572 166.33600572 166.33600572 166.33600572\n",
      " 166.33600572 166.33600572 166.33600572 166.33600572 166.33600572\n",
      " 166.33600572 166.33600572 166.33600572 166.33600572 166.33600572\n",
      " 166.33600572 166.33600572 166.33600572 166.33600572 166.33600572\n",
      " 166.33600572 166.33600572 166.33600572 166.33600572 166.33600572\n",
      " 166.33600572 166.33600572 166.33600572 166.33600572 166.33600572\n",
      " 166.33600572 166.33600572 166.33600572 166.33600572 166.33600572\n",
      " 166.33600572 166.33600572 166.33600572 166.33600572 166.33600572\n",
      " 166.33600572 166.33600572 166.33600572 166.33600572 166.33600572\n",
      " 166.33600572 166.33600572 166.33600572 166.33600572 166.33600572\n",
      " 166.33600572 166.33600572 166.33600572 166.33600572 166.33600572\n",
      " 166.33600572 166.33600572 166.33600572 166.33600572 166.33600572\n",
      " 166.33600572 166.33600572 166.33600572 166.33600572 166.33600572\n",
      " 166.33600572 166.33600572 166.33600572 166.33600572 166.33600572\n",
      " 166.33600572 166.33600572 166.33600572 166.33600572 166.33600572\n",
      " 166.33600572 166.33600572 166.33600572 166.33600572 166.33600572\n",
      " 166.33600572 166.33600572 166.33600572 166.33600572 166.33600572\n",
      " 166.33600572 166.33600572 166.33600572 166.33600572 166.33600572\n",
      " 166.33600572 166.33600572 166.33600572 166.33600572 166.33600572\n",
      " 166.33600572 166.33600572 166.33600572 166.33600572 166.33600572\n",
      " 166.33600572 166.33600572 166.33600572 166.33600572 166.33600572\n",
      " 166.33600572 166.33600572 166.33600572 166.33600572 166.33600572\n",
      " 166.33600572 166.33600572 166.33600572 166.33600572 166.33600572\n",
      " 166.33600572 166.33600572 166.33600572 166.33600572 166.33600572\n",
      " 166.33600572 166.33600572 166.33600572 166.33600572 166.33600572\n",
      " 166.33600572 166.33600572 166.33600572 166.33600572 166.33600572\n",
      " 166.33600572 166.33600572 166.33600572 166.33600572 166.33600572\n",
      " 166.33600572 166.33600572 166.33600572 166.33600572 166.33600572\n",
      " 166.33600572 166.33600572 166.33600572 166.33600572 166.33600572\n",
      " 166.33600572 166.33600572 166.33600572 166.33600572 166.33600572\n",
      " 166.33600572 166.33600572 166.33600572 166.33600572 166.33600572\n",
      " 166.33600572 166.33600572 166.33600572 166.33600572 166.33600572\n",
      " 166.33600572 166.33600572 166.33600572 166.33600572 166.33600572\n",
      " 166.33600572 166.33600572 166.33600572 166.33600572 166.33600572\n",
      " 166.33600572 166.33600572 166.33600572 166.33600572 166.33600572\n",
      " 166.33600572 166.33600572 166.33600572 166.33600572 166.33600572\n",
      " 166.33600572 166.33600572 166.33600572 166.33600572 166.33600572\n",
      " 166.33600572 166.33600572 166.33600572 166.33600572 166.33600572\n",
      " 166.33600572 166.33600572 166.33600572 166.33600572 166.33600572\n",
      " 166.33600572 166.33600572 166.33600572 166.33600572 166.33600572]\n"
     ]
    },
    {
     "data": {
      "text/plain": [
       "Text(0.5, 1.0, 'Size vs. Price')"
      ]
     },
     "execution_count": 8,
     "metadata": {},
     "output_type": "execute_result"
    },
    {
     "data": {
      "image/png": "[encoded data removed]",
      "text/plain": [
       "<Figure size 500x500 with 1 Axes>"
      ]
     },
     "metadata": {},
     "output_type": "display_data"
    }
   ],
   "source": [
    "#To Ready Data Becuase Draw The Best Fit Line\n",
    "data1=np.linspace(data.size.min(),data.size.max(),200)\n",
    "print('The Data After Divided To 200 Equal Part Is ==> \\n',data1)\n",
    "#To Make Hypothesis Equation ==> h(Theta)= theta 0 + theta 1 * x \n",
    "f=g[0,0]+(g[0,1] * data1)\n",
    "print('**'*50)\n",
    "print('The Hypothesis Equation Result Is ==> \\n',f)\n",
    "fig, ax = plt.subplots(figsize=(5,5))\n",
    "ax.plot(data1, f, 'r', label='Prediction')\n",
    "ax.scatter(data.Size, data.Price, label='Training Data')\n",
    "ax.legend(loc=2)\n",
    "ax.set_xlabel('Size')\n",
    "ax.set_ylabel('Price')\n",
    "ax.set_title('Size vs. Price')"
   ]
  },
  {
   "cell_type": "code",
   "execution_count": null,
   "metadata": {},
   "outputs": [],
   "source": []
  }
 ],
 "metadata": {
  "kernelspec": {
   "display_name": "Python 3.10.6 64-bit",
   "language": "python",
   "name": "python3"
  },
  "language_info": {
   "codemirror_mode": {
    "name": "ipython",
    "version": 3
   },
   "file_extension": ".py",
   "mimetype": "text/x-python",
   "name": "python",
   "nbconvert_exporter": "python",
   "pygments_lexer": "ipython3",
   "version": "3.10.6 (tags/v3.10.6:9c7b4bd, Aug  1 2022, 21:53:49) [MSC v.1932 64 bit (AMD64)]"
  },
  "orig_nbformat": 4,
  "vscode": {
   "interpreter": {
    "hash": "4b9f101850c67e49d0d8461a88159b16436e7850b7b01b32dcbf2903f9255fd2"
   }
  }
 },
 "nbformat": 4,
 "nbformat_minor": 2
}
