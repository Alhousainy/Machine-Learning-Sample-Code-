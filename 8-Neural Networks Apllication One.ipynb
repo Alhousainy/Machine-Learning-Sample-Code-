{
 "cells": [
  {
   "cell_type": "code",
   "execution_count": 1,
   "metadata": {},
   "outputs": [],
   "source": [
    "import numpy as np \n",
    "#neurons=int(input('Please Enter The Number Of Neurons'))\n",
    "neurons =4 #Intial Value For Sample Example About Neural Networks \n",
    "#============================================================\n",
    "#Def Sigmoid Function \n",
    "def sigmoid(num1): return 1.0/(1.0 + np.exp(-num1))\n",
    "#=======================================================\n",
    "#Def Devrative Sigmoid Function \n",
    "def sigmoid_dervative(num2): return num2  * (1 - num2)"
   ]
  },
  {
   "cell_type": "code",
   "execution_count": 2,
   "metadata": {},
   "outputs": [],
   "source": [
    "#Make Class Is Called Neural Networks \n",
    "class NeuralNetworks:\n",
    "    def __init__(self,x,y):\n",
    "        self.input=x\n",
    "        print('The Matrix Of Inputs Is \\n',self.input)\n",
    "        print('**'*20)\n",
    "        self.weights1=np.random.rand(self.input.shape[1],neurons)\n",
    "        print('The Matrix Of Weights One Is \\n',self.weights1)\n",
    "        print('**'*20)\n",
    "        self.weights2=np.random.rand(neurons,1)\n",
    "        print('The Matrix Of Weights 2 Is \\n',self.weights2)\n",
    "        print('**'*20)\n",
    "        self.y=y\n",
    "        print('The Matrix Of Real Values Is \\n',y)\n",
    "        print('**'*20)\n",
    "        self.output=np.zeros(self.y.shape)\n",
    "        print('The Matrix Of Expected Values Is \\n',self.output)\n",
    "        print('**'*20)\n",
    "    def feedforawrd(self):\n",
    "        self.layer1=sigmoid(np.dot(self.input,self.weights1))\n",
    "        self.output=sigmoid(np.dot(self.layer1,self.weights2))\n",
    "    def backprop(self):\n",
    "        d_weights2=np.dot(self.layer1.T,(2*(self.y-self.output) * sigmoid_dervative(self.output)))\n",
    "        d_weights1=np.dot(self.input.T,(np.dot(2*(self.y-self.output) * sigmoid_dervative(self.output),self.weights2.T) * sigmoid_dervative(self.layer1)))\n",
    "        self.weights1+=d_weights1\n",
    "        self.weights2+=d_weights2"
   ]
  },
  {
   "cell_type": "code",
   "execution_count": 3,
   "metadata": {},
   "outputs": [
    {
     "name": "stdout",
     "output_type": "stream",
     "text": [
      "The Matrix Of Inputs Is \n",
      " [[0 0 1]\n",
      " [0 1 1]\n",
      " [1 0 1]\n",
      " [1 1 1]]\n",
      "****************************************\n",
      "The Matrix Of Weights One Is \n",
      " [[0.23297357 0.57809735 0.75318973 0.18937751]\n",
      " [0.15501565 0.60541959 0.56606251 0.37977441]\n",
      " [0.91260956 0.57768346 0.67883223 0.49655511]]\n",
      "****************************************\n",
      "The Matrix Of Weights 2 Is \n",
      " [[0.39946457]\n",
      " [0.51338616]\n",
      " [0.51238679]\n",
      " [0.32134495]]\n",
      "****************************************\n",
      "The Matrix Of Real Values Is \n",
      " [[0]\n",
      " [1]\n",
      " [1]\n",
      " [0]]\n",
      "****************************************\n",
      "The Matrix Of Expected Values Is \n",
      " [[0.]\n",
      " [0.]\n",
      " [0.]\n",
      " [0.]]\n",
      "****************************************\n",
      "****************************************************************************************************\n",
      "The Final Output Is \n",
      " [[0.00268566]\n",
      " [0.99030833]\n",
      " [0.99026374]\n",
      " [0.01207529]]\n"
     ]
    }
   ],
   "source": [
    "x_input=np.array([[0,0,1],[0,1,1],[1,0,1],[1,1,1]])\n",
    "y_output=np.array([[0],[1],[1],[0]])\n",
    "NN=NeuralNetworks(x_input,y_output)\n",
    "for i in range (10000):\n",
    "    NN.feedforawrd()\n",
    "    NN.backprop()\n",
    "print('**'*50)\n",
    "print('The Final Output Is \\n',NN.output)"
   ]
  },
  {
   "cell_type": "code",
   "execution_count": null,
   "metadata": {},
   "outputs": [],
   "source": []
  }
 ],
 "metadata": {
  "kernelspec": {
   "display_name": "Python 3",
   "language": "python",
   "name": "python3"
  },
  "language_info": {
   "codemirror_mode": {
    "name": "ipython",
    "version": 3
   },
   "file_extension": ".py",
   "mimetype": "text/x-python",
   "name": "python",
   "nbconvert_exporter": "python",
   "pygments_lexer": "ipython3",
   "version": "3.10.6"
  },
  "orig_nbformat": 4,
  "vscode": {
   "interpreter": {
    "hash": "4b9f101850c67e49d0d8461a88159b16436e7850b7b01b32dcbf2903f9255fd2"
   }
  }
 },
 "nbformat": 4,
 "nbformat_minor": 2
}
